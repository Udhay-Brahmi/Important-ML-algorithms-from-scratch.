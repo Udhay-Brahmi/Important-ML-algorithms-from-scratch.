{
 "cells": [
  {
   "cell_type": "code",
   "execution_count": null,
   "metadata": {
    "_uuid": "739312197e54166212116baab4af1d81fb4e9ccb",
    "execution": {
     "iopub.execute_input": "2022-08-20T10:39:07.446374Z",
     "iopub.status.busy": "2022-08-20T10:39:07.446073Z",
     "iopub.status.idle": "2022-08-20T10:39:12.205900Z",
     "shell.execute_reply": "2022-08-20T10:39:12.205043Z",
     "shell.execute_reply.started": "2022-08-20T10:39:07.446321Z"
    },
    "id": "u4Qoy1EB5hmJ",
    "outputId": "9fc57d33-b6cc-45c1-c4ec-24394bb61544"
   },
   "outputs": [],
   "source": [
    "import numpy as np\n",
    "import pandas as pd\n",
    "import nltk\n",
    "from nltk.corpus import stopwords\n",
    "from nltk import word_tokenize,sent_tokenize\n",
    "from nltk.stem import PorterStemmer,LancasterStemmer\n",
    "from nltk.stem.snowball import SnowballStemmer\n",
    "from nltk.stem import WordNetLemmatizer\n",
    "from nltk import pos_tag\n",
    "from nltk import ne_chunk\n",
    "from sklearn.feature_extraction.text import TfidfVectorizer,CountVectorizer\n",
    "from bs4 import BeautifulSoup \n",
    "import re\n",
    "from sklearn.model_selection import train_test_split,cross_validate\n",
    "from sklearn.model_selection import KFold\n",
    "from sklearn.model_selection import GridSearchCV\n",
    "from sklearn.metrics import accuracy_score,roc_auc_score \n",
    "from sklearn.metrics import classification_report\n",
    "from sklearn.preprocessing import MinMaxScaler,StandardScaler,LabelEncoder\n",
    "from sklearn.linear_model import LogisticRegression\n",
    "from sklearn.svm import LinearSVC,SVC\n",
    "from sklearn.neighbors import KNeighborsClassifier\n",
    "from sklearn.ensemble import RandomForestClassifier,GradientBoostingClassifier,AdaBoostClassifier\n",
    "from sklearn.tree import DecisionTreeClassifier\n",
    "from sklearn.naive_bayes import GaussianNB,MultinomialNB\n",
    "stop_words=set(nltk.corpus.stopwords.words('english'))\n",
    "import keras\n",
    "from keras.preprocessing.text import one_hot,Tokenizer\n",
    "from keras.preprocessing.sequence import pad_sequences\n",
    "from keras.models import Sequential\n",
    "from keras.layers import Dense , Flatten ,Embedding,Input,LSTM, SimpleRNN\n",
    "from keras.models import Model\n",
    "from keras.preprocessing.text import text_to_word_sequence\n",
    "from gensim.models import Word2Vec"
   ]
  },
  {
   "cell_type": "code",
   "execution_count": null,
   "metadata": {
    "_uuid": "1abe90648e9f876e84a5ca74717e373d9877c9ab",
    "execution": {
     "iopub.execute_input": "2022-08-20T10:39:12.209681Z",
     "iopub.status.busy": "2022-08-20T10:39:12.209437Z",
     "iopub.status.idle": "2022-08-20T10:39:19.366307Z",
     "shell.execute_reply": "2022-08-20T10:39:19.365398Z",
     "shell.execute_reply.started": "2022-08-20T10:39:12.209635Z"
    },
    "id": "PxRv4O4w6ELq"
   },
   "outputs": [],
   "source": [
    "rev_frame=pd.read_csv('Reviews.csv')\n",
    "df=rev_frame.copy()\n",
    "\n",
    "df = df[:2000]"
   ]
  },
  {
   "cell_type": "code",
   "execution_count": null,
   "metadata": {
    "_uuid": "e6d5d863d0efb7bc29ba4f1a2fb51f1e3917e248",
    "execution": {
     "iopub.execute_input": "2022-08-20T10:39:19.416013Z",
     "iopub.status.busy": "2022-08-20T10:39:19.415419Z",
     "iopub.status.idle": "2022-08-20T10:39:19.436601Z",
     "shell.execute_reply": "2022-08-20T10:39:19.436010Z",
     "shell.execute_reply.started": "2022-08-20T10:39:19.415753Z"
    },
    "id": "04Lhx1IhD4MK"
   },
   "outputs": [],
   "source": [
    "df=df[['Text','Score']]"
   ]
  },
  {
   "cell_type": "code",
   "execution_count": null,
   "metadata": {
    "_uuid": "9a80c3ae0e318bb9a95071f8aef3205aac25d1e3",
    "execution": {
     "iopub.execute_input": "2022-08-20T10:39:19.439703Z",
     "iopub.status.busy": "2022-08-20T10:39:19.439484Z",
     "iopub.status.idle": "2022-08-20T10:39:19.649445Z",
     "shell.execute_reply": "2022-08-20T10:39:19.648640Z",
     "shell.execute_reply.started": "2022-08-20T10:39:19.439659Z"
    },
    "id": "fD_pd159D8Yt"
   },
   "outputs": [],
   "source": [
    "df['review']=df['Text']\n",
    "df['rating']=df['Score']\n",
    "df.drop(['Text','Score'],axis=1,inplace=True)"
   ]
  },
  {
   "cell_type": "code",
   "execution_count": null,
   "metadata": {
    "_uuid": "ab0a87b8287034de77b2c699d19ab1737b9a15b9",
    "execution": {
     "iopub.execute_input": "2022-08-20T10:39:19.745856Z",
     "iopub.status.busy": "2022-08-20T10:39:19.745335Z",
     "iopub.status.idle": "2022-08-20T10:39:20.389541Z",
     "shell.execute_reply": "2022-08-20T10:39:20.388730Z",
     "shell.execute_reply.started": "2022-08-20T10:39:19.745556Z"
    },
    "id": "xcccEV8TRfrc"
   },
   "outputs": [],
   "source": [
    "df.drop_duplicates(subset=['rating','review'],keep='first',inplace=True) "
   ]
  },
  {
   "cell_type": "code",
   "execution_count": null,
   "metadata": {
    "_uuid": "f34d0ca5176df79971e63d2b283ee890c7743618",
    "execution": {
     "iopub.execute_input": "2022-08-20T10:39:20.419567Z",
     "iopub.status.busy": "2022-08-20T10:39:20.419244Z",
     "iopub.status.idle": "2022-08-20T10:39:20.425315Z",
     "shell.execute_reply": "2022-08-20T10:39:20.424240Z",
     "shell.execute_reply.started": "2022-08-20T10:39:20.419449Z"
    },
    "id": "cK5HuI9H_MFf"
   },
   "outputs": [],
   "source": [
    "def mark_sentiment(rating):\n",
    "    if(rating<=3):\n",
    "        return 0\n",
    "    else:\n",
    "        return 1"
   ]
  },
  {
   "cell_type": "code",
   "execution_count": null,
   "metadata": {
    "_uuid": "53400cfb2c759e19aa920dfe8c993d7511d46fcd",
    "execution": {
     "iopub.execute_input": "2022-08-20T10:39:20.427209Z",
     "iopub.status.busy": "2022-08-20T10:39:20.426624Z",
     "iopub.status.idle": "2022-08-20T10:39:20.573253Z",
     "shell.execute_reply": "2022-08-20T10:39:20.572493Z",
     "shell.execute_reply.started": "2022-08-20T10:39:20.427150Z"
    },
    "id": "yHsAqyByBJsn"
   },
   "outputs": [],
   "source": [
    "df['sentiment']=df['rating'].apply(mark_sentiment)"
   ]
  },
  {
   "cell_type": "code",
   "execution_count": null,
   "metadata": {
    "_uuid": "bd14ee54153c88deaf2d3ad58e3e8178c17662e2",
    "execution": {
     "iopub.execute_input": "2022-08-20T10:39:20.574964Z",
     "iopub.status.busy": "2022-08-20T10:39:20.574472Z",
     "iopub.status.idle": "2022-08-20T10:39:20.598688Z",
     "shell.execute_reply": "2022-08-20T10:39:20.597997Z",
     "shell.execute_reply.started": "2022-08-20T10:39:20.574749Z"
    },
    "id": "xkp3SW43Bh1a"
   },
   "outputs": [],
   "source": [
    "df.drop(['rating'],axis=1,inplace=True)"
   ]
  },
  {
   "cell_type": "code",
   "execution_count": null,
   "metadata": {
    "_uuid": "07a40af0e7bee10926af888aa5f21909ff72985d",
    "execution": {
     "iopub.execute_input": "2022-08-20T10:39:20.617226Z",
     "iopub.status.busy": "2022-08-20T10:39:20.616729Z",
     "iopub.status.idle": "2022-08-20T10:39:20.630224Z",
     "shell.execute_reply": "2022-08-20T10:39:20.629524Z",
     "shell.execute_reply.started": "2022-08-20T10:39:20.617176Z"
    },
    "id": "eF78FZNuB3Lq",
    "outputId": "969fb056-2f1a-46ec-9bcd-e083e99fb373"
   },
   "outputs": [],
   "source": [
    "df['sentiment'].value_counts()"
   ]
  },
  {
   "cell_type": "code",
   "execution_count": null,
   "metadata": {
    "_uuid": "6b9d5cde9cac9a93ee404a67bf2e3715ea1a05d4",
    "execution": {
     "iopub.execute_input": "2022-08-20T10:39:20.639977Z",
     "iopub.status.busy": "2022-08-20T10:39:20.639350Z",
     "iopub.status.idle": "2022-08-20T10:39:20.677379Z",
     "shell.execute_reply": "2022-08-20T10:39:20.676708Z",
     "shell.execute_reply.started": "2022-08-20T10:39:20.639641Z"
    },
    "id": "EtbatAehCwqU"
   },
   "outputs": [],
   "source": [
    "pos_df=df.loc[df.sentiment==1,:][:50000]\n",
    "neg_df=df.loc[df.sentiment==0,:][:50000]"
   ]
  },
  {
   "cell_type": "code",
   "execution_count": null,
   "metadata": {
    "_uuid": "7c893aaa28c80717a51e7f3d7a36479cf6d63f06",
    "execution": {
     "iopub.execute_input": "2022-08-20T10:39:20.709210Z",
     "iopub.status.busy": "2022-08-20T10:39:20.708969Z",
     "iopub.status.idle": "2022-08-20T10:39:20.719401Z",
     "shell.execute_reply": "2022-08-20T10:39:20.718609Z",
     "shell.execute_reply.started": "2022-08-20T10:39:20.709164Z"
    },
    "id": "LmLJwhFPEEDy"
   },
   "outputs": [],
   "source": [
    "#combining\n",
    "df=pd.concat([pos_df,neg_df],ignore_index=True)"
   ]
  },
  {
   "cell_type": "code",
   "execution_count": null,
   "metadata": {
    "_uuid": "46e946e4e593482f373a7ac97cda97b1310cc72a",
    "execution": {
     "iopub.execute_input": "2022-08-20T10:39:20.740154Z",
     "iopub.status.busy": "2022-08-20T10:39:20.739588Z",
     "iopub.status.idle": "2022-08-20T10:39:20.767945Z",
     "shell.execute_reply": "2022-08-20T10:39:20.767248Z",
     "shell.execute_reply.started": "2022-08-20T10:39:20.739808Z"
    },
    "id": "ngCjsqeLHknP",
    "outputId": "2e53f95a-4cb4-413d-b6f5-5a225e3e9309"
   },
   "outputs": [],
   "source": [
    "# shuffling rows\n",
    "df = df.sample(frac=1).reset_index(drop=True)\n",
    "print(df.shape) \n",
    "df.head()"
   ]
  },
  {
   "cell_type": "code",
   "execution_count": null,
   "metadata": {
    "_uuid": "1a3b204a1219c074721fff30b1d3912f633eab74",
    "id": "bbUhUFHCsTx_"
   },
   "outputs": [],
   "source": [
    "import gensim\n",
    "stop_words = set(stopwords.words('english'))\n",
    "def preprocess_text(text):\n",
    "    tokens = word_tokenize(text)\n",
    "    tokens = [word.lower() for word in tokens if word.isalpha() and word.lower() not in stop_words]\n",
    "    return tokens\n",
    "\n",
    "df['tokens'] = df['review'].apply(preprocess_text)\n",
    "w2v_model = gensim.models.Word2Vec(sentences=df['tokens'], vector_size=300, window=10, min_count=1)"
   ]
  },
  {
   "cell_type": "code",
   "execution_count": null,
   "metadata": {
    "_uuid": "5f04a542e992d3e5bbd4fffd5bd6090b353a4036",
    "id": "YdpRIli7tfzu",
    "outputId": "d52b2afa-2dab-4403-db68-6d3dfc77f5ac"
   },
   "outputs": [],
   "source": [
    "w2v_model.train(df['tokens'], total_examples=len(df['tokens']), epochs=10)"
   ]
  },
  {
   "cell_type": "code",
   "execution_count": null,
   "metadata": {
    "_uuid": "f1dd13a7bb306dd0002a5b51486515220d163c5e",
    "id": "RKjJClxezPSf"
   },
   "outputs": [],
   "source": [
    "vocab = list(w2v_model.wv.key_to_index.keys())"
   ]
  },
  {
   "cell_type": "code",
   "execution_count": null,
   "metadata": {
    "_uuid": "1f09f5f21f612ef5a3b59747218e6c0ccb0ad415",
    "id": "rcqASqyLwNDk",
    "outputId": "cd2f1c03-5ff9-4f05-9279-81a97c93c24c"
   },
   "outputs": [],
   "source": [
    "word_vec_dict={}\n",
    "for word in vocab:\n",
    "  word_vec_dict[word]=w2v_model.wv.get_vector(word)\n",
    "print(\"The no of key-value pairs : \",len(word_vec_dict))"
   ]
  },
  {
   "cell_type": "code",
   "execution_count": null,
   "metadata": {
    "_uuid": "64fe854ee56f7ac7f1881e690e7d98b5fb10520f",
    "id": "9pw6qdOfntcS"
   },
   "outputs": [],
   "source": [
    "tok = Tokenizer()\n",
    "tok.fit_on_texts(df['review'])\n",
    "vocab_size = len(tok.word_index) + 1\n",
    "encd_rev = tok.texts_to_sequences(df['review'])"
   ]
  },
  {
   "cell_type": "code",
   "execution_count": null,
   "metadata": {
    "_uuid": "865e1a04cd9b78a021b1e1e788af45b244a872cf",
    "id": "S6K-WwbSnnaa"
   },
   "outputs": [],
   "source": [
    "max_rev_len=1565\n",
    "vocab_size = len(tok.word_index)\n",
    "embed_dim=300"
   ]
  },
  {
   "cell_type": "code",
   "execution_count": null,
   "metadata": {
    "_uuid": "800f7cf8e872c92ff3930eea9c1dd564560225da",
    "id": "h9NqY0ztof_Z",
    "outputId": "4b56d53b-bcf6-4c7b-ce99-7e4f803c2c86"
   },
   "outputs": [],
   "source": [
    "pad_rev= pad_sequences(encd_rev, maxlen=max_rev_len, padding='post')"
   ]
  },
  {
   "cell_type": "code",
   "execution_count": null,
   "metadata": {
    "_uuid": "f751ae6da742675fc4789fa33421cd87223d651d",
    "id": "GlJCOsmfxu-S"
   },
   "outputs": [],
   "source": [
    "embed_matrix=np.zeros(shape=(vocab_size,embed_dim))\n",
    "for word,i in tok.word_index.items():\n",
    "  embed_vector=word_vec_dict.get(word)\n",
    "  if embed_vector is not None:\n",
    "    embed_matrix[i]=embed_vector"
   ]
  },
  {
   "cell_type": "code",
   "execution_count": null,
   "metadata": {
    "_uuid": "ff5829cf69c1ac4fdb14c24d9be3c14683363a45",
    "id": "jNGi31a5AHxC"
   },
   "outputs": [],
   "source": [
    "Y=keras.utils.to_categorical(df['sentiment'])\n",
    "x_train,x_test,y_train,y_test=train_test_split(pad_rev,Y,test_size=0.20,random_state=42)"
   ]
  },
  {
   "cell_type": "code",
   "execution_count": null,
   "metadata": {
    "_uuid": "3b1b2e253f0a76b487e2732ffc5f1b32c5e8e0c0",
    "id": "ZmsnBmEf-Ktr"
   },
   "outputs": [],
   "source": [
    "from keras.initializers import Constant\n",
    "from keras.layers import ReLU\n",
    "from keras.layers import Dropout\n",
    "model=Sequential()\n",
    "model.add(Embedding(input_dim=vocab_size,output_dim=embed_dim,input_length=max_rev_len,embeddings_initializer=Constant(embed_matrix)))\n",
    "model.add(SimpleRNN(32))\n",
    "model.add(Dense(2, activation='sigmoid'))\n",
    "model.summary()"
   ]
  },
  {
   "cell_type": "code",
   "execution_count": null,
   "metadata": {},
   "outputs": [],
   "source": [
    "from keras.initializers import Constant\n",
    "from keras.layers import ReLU\n",
    "from keras.layers import Dropout\n",
    "model=Sequential()\n",
    "model.add(Embedding(input_dim=vocab_size,output_dim=embed_dim,input_length=max_rev_len,embeddings_initializer=Constant(embed_matrix)))\n",
    "model.add(LSTM(32))\n",
    "model.add(Dense(2, activation='sigmoid'))\n",
    "model.summary()"
   ]
  },
  {
   "cell_type": "code",
   "execution_count": null,
   "metadata": {
    "_uuid": "087c686671c54c334bd605a1b76738156f9b975d",
    "id": "rtVq2ncD_2a1"
   },
   "outputs": [],
   "source": [
    "model.compile(optimizer=keras.optimizers.RMSprop(lr=1e-3),loss='binary_crossentropy',metrics=['accuracy'])"
   ]
  },
  {
   "cell_type": "code",
   "execution_count": null,
   "metadata": {
    "_uuid": "89e963f56a787c2096706fee9357afcf6121290a",
    "id": "gvDNMDeWADh9",
    "outputId": "443f2050-c627-4630-b8f4-3324f7e09c4f"
   },
   "outputs": [],
   "source": [
    "model.fit(x_train,y_train,epochs=1,batch_size=64,validation_data=(x_test,y_test))"
   ]
  }
 ],
 "metadata": {
  "kernelspec": {
   "display_name": "Python 3 (ipykernel)",
   "language": "python",
   "name": "python3"
  },
  "language_info": {
   "codemirror_mode": {
    "name": "ipython",
    "version": 3
   },
   "file_extension": ".py",
   "mimetype": "text/x-python",
   "name": "python",
   "nbconvert_exporter": "python",
   "pygments_lexer": "ipython3",
   "version": "3.11.5"
  }
 },
 "nbformat": 4,
 "nbformat_minor": 4
}
