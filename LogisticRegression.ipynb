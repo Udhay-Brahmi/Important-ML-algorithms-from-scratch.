{
 "cells": [
  {
   "cell_type": "code",
   "execution_count": 7,
   "id": "93d8b547-02b4-4f27-8f1b-f7a7d870abcb",
   "metadata": {},
   "outputs": [],
   "source": [
    "import numpy as np"
   ]
  },
  {
   "cell_type": "code",
   "execution_count": 8,
   "id": "023e9b22-c621-4db4-b59b-2fb6a07c0226",
   "metadata": {},
   "outputs": [],
   "source": [
    "def sigmoid(x):\n",
    "    return (1/(1 + np.exp(-x)))\n",
    "class LogisticRegression:\n",
    "    def __init__(self, lr, epochs):\n",
    "        self.lr = lr\n",
    "        self.epochs = epochs\n",
    "        self.weights = None\n",
    "        self.bias = None\n",
    "    def fit(self, X, y):\n",
    "        samples, features = X.shape\n",
    "        self.weights = np.zeros(features)\n",
    "        self.bias = 0\n",
    "        for _ in range(self.epochs):\n",
    "            y_pred = np.dot(X, self.weights) + self.bias\n",
    "            pred = sigmoid(y_pred)\n",
    "            dw = (1/samples) * np.dot(X.T, (pred - y))\n",
    "            db = (1/samples) * np.sum(pred - y)\n",
    "            self.weights = self.weights - self.lr * dw\n",
    "            self.bias = self.bias - self.lr * db\n",
    "    def predict(self, X):\n",
    "        y_pred = np.dot(X, self.weights) + self.bias\n",
    "        pred = sigmoid(y_pred)\n",
    "        pred_class = [0 if yh <= 0.5 else 1 for yh in pred]\n",
    "        return pred_class"
   ]
  },
  {
   "cell_type": "code",
   "execution_count": 10,
   "id": "593e5583-ab21-49f1-a382-1d8d5377c318",
   "metadata": {},
   "outputs": [
    {
     "name": "stdout",
     "output_type": "stream",
     "text": [
      "0.9122807017543859\n"
     ]
    },
    {
     "name": "stderr",
     "output_type": "stream",
     "text": [
      "/tmp/ipykernel_2157880/1421840439.py:2: RuntimeWarning: overflow encountered in exp\n",
      "  return (1/(1 + np.exp(-x)))\n"
     ]
    }
   ],
   "source": [
    "from sklearn.model_selection import train_test_split\n",
    "from sklearn import datasets\n",
    "\n",
    "bc = datasets.load_breast_cancer()\n",
    "X, y = bc.data, bc.target\n",
    "X_train, X_test, y_train, y_test = train_test_split(X, y, test_size=0.2)\n",
    "\n",
    "clf = LogisticRegression(lr = 0.001, epochs = 1000)\n",
    "clf.fit(X_train, y_train)\n",
    "pred = clf.predict(X_test)\n",
    "\n",
    "print(np.sum(pred == y_test) / len(y_test))"
   ]
  },
  {
   "cell_type": "code",
   "execution_count": null,
   "id": "5d20e2f3-f3d3-4727-8289-28f603e2d31d",
   "metadata": {},
   "outputs": [],
   "source": []
  }
 ],
 "metadata": {
  "kernelspec": {
   "display_name": "Python 3 (ipykernel)",
   "language": "python",
   "name": "python3"
  },
  "language_info": {
   "codemirror_mode": {
    "name": "ipython",
    "version": 3
   },
   "file_extension": ".py",
   "mimetype": "text/x-python",
   "name": "python",
   "nbconvert_exporter": "python",
   "pygments_lexer": "ipython3",
   "version": "3.8.10"
  }
 },
 "nbformat": 4,
 "nbformat_minor": 5
}
