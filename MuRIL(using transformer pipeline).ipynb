{
 "cells": [
  {
   "cell_type": "raw",
   "id": "5f1801fb",
   "metadata": {},
   "source": [
    "MuRIL model. Similarly we use other BERT varients."
   ]
  },
  {
   "cell_type": "code",
   "execution_count": null,
   "id": "b1dfb6a5",
   "metadata": {
    "scrolled": true
   },
   "outputs": [],
   "source": [
    "!pip install transformers"
   ]
  },
  {
   "cell_type": "code",
   "execution_count": null,
   "id": "11096d4b",
   "metadata": {},
   "outputs": [],
   "source": [
    "from transformers import pipeline\n",
    "classifier = pipeline(model=\"google/muril-base-cased\")"
   ]
  },
  {
   "cell_type": "code",
   "execution_count": null,
   "id": "56b184ae",
   "metadata": {},
   "outputs": [],
   "source": [
    "classifier(\"The goal of life is [MASK].\")"
   ]
  }
 ],
 "metadata": {
  "kernelspec": {
   "display_name": "Python 3 (ipykernel)",
   "language": "python",
   "name": "python3"
  },
  "language_info": {
   "codemirror_mode": {
    "name": "ipython",
    "version": 3
   },
   "file_extension": ".py",
   "mimetype": "text/x-python",
   "name": "python",
   "nbconvert_exporter": "python",
   "pygments_lexer": "ipython3",
   "version": "3.11.5"
  }
 },
 "nbformat": 4,
 "nbformat_minor": 5
}
