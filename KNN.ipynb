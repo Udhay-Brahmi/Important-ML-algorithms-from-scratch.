{
 "cells": [
  {
   "cell_type": "code",
   "execution_count": 2,
   "id": "4fc238ea-98e4-456a-87f4-c92c1990effd",
   "metadata": {},
   "outputs": [],
   "source": [
    "import numpy as np\n",
    "from collections import Counter"
   ]
  },
  {
   "cell_type": "code",
   "execution_count": 4,
   "id": "6b8c7f49-5a8c-471a-82b8-fed1e6e69dd7",
   "metadata": {},
   "outputs": [],
   "source": [
    "def euc(x1, x2):\n",
    "    distance = np.sqrt((np.sum(x1 - x2))**2)\n",
    "    return distance"
   ]
  },
  {
   "cell_type": "code",
   "execution_count": 3,
   "id": "c902e829-eed7-4ca0-9f34-3ace87c59077",
   "metadata": {},
   "outputs": [],
   "source": [
    "class KNN:\n",
    "    def __init__(self, k):\n",
    "        self.k = k\n",
    "    def fit(self, X, y):\n",
    "        self.X_train = X\n",
    "        self.y_train = y\n",
    "    def predict(self, X):\n",
    "        predictions = [self._predict(x) for x in X]\n",
    "        return predictions\n",
    "    def _predict(self, x):\n",
    "        distances = [euc(x,x_train) for x_train in self.X_train]\n",
    "        indices = np.argsort(distances)[:self.k]\n",
    "        k_n_label = [self.y_train[i] for i in indices]\n",
    "        \n",
    "        mc = Counter(k_n_label).most_common()\n",
    "        return mc[0][0]"
   ]
  },
  {
   "cell_type": "code",
   "execution_count": 5,
   "id": "c81ac531-135f-4d3f-87e4-35e58d0337eb",
   "metadata": {},
   "outputs": [],
   "source": [
    "from sklearn import datasets\n",
    "from sklearn.model_selection import train_test_split"
   ]
  },
  {
   "cell_type": "code",
   "execution_count": 6,
   "id": "cd668079-1a11-4183-9db4-a27cef4b0239",
   "metadata": {},
   "outputs": [],
   "source": [
    "iris = datasets.load_iris()\n",
    "X, y = iris.data, iris.target"
   ]
  },
  {
   "cell_type": "code",
   "execution_count": 10,
   "id": "2a78ff35-b08b-445c-ad14-91934e88b91b",
   "metadata": {},
   "outputs": [],
   "source": [
    "X_train, X_test, y_train, y_test = train_test_split(X, y, test_size=0.2, random_state=42)"
   ]
  },
  {
   "cell_type": "code",
   "execution_count": 16,
   "id": "7a41128e-3422-4c2a-9c7d-ee80fe7f71b4",
   "metadata": {},
   "outputs": [],
   "source": [
    "clf = KNN(4)\n",
    "clf.fit(X_train, y_train)"
   ]
  },
  {
   "cell_type": "code",
   "execution_count": 17,
   "id": "877786aa-9366-4f1d-b61d-e5370a192ea8",
   "metadata": {},
   "outputs": [],
   "source": [
    "y_pred = clf.predict(X_test)"
   ]
  },
  {
   "cell_type": "code",
   "execution_count": 19,
   "id": "5adfe4e9-73e6-4c86-b1bc-93205c1208c6",
   "metadata": {},
   "outputs": [
    {
     "name": "stdout",
     "output_type": "stream",
     "text": [
      "0.9\n"
     ]
    }
   ],
   "source": [
    "acc = np.sum(y_pred == y_test) / len(y_test)\n",
    "print(acc)"
   ]
  }
 ],
 "metadata": {
  "kernelspec": {
   "display_name": "Python 3 (ipykernel)",
   "language": "python",
   "name": "python3"
  },
  "language_info": {
   "codemirror_mode": {
    "name": "ipython",
    "version": 3
   },
   "file_extension": ".py",
   "mimetype": "text/x-python",
   "name": "python",
   "nbconvert_exporter": "python",
   "pygments_lexer": "ipython3",
   "version": "3.8.10"
  }
 },
 "nbformat": 4,
 "nbformat_minor": 5
}
