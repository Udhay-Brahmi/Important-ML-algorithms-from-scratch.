{
 "cells": [
  {
   "cell_type": "code",
   "execution_count": null,
   "id": "1727a632",
   "metadata": {
    "scrolled": true
   },
   "outputs": [],
   "source": [
    "from sklearn.feature_extraction.text import TfidfVectorizer\n",
    "from sklearn.model_selection import train_test_split\n",
    "\n",
    "X = [\"Good morning\", \"Sweet Dreams\", \"Stay Awake\"]\n",
    "Y = [\"Good morning\", \"Sweet Dreams\", \"Stay Awake\"]\n",
    "\n",
    "vectorizer = TfidfVectorizer().fit(X)\n",
    "\n",
    "tfidf_vector_X = vectorizer.transform(X).toarray()  #//shape - (3,6)\n",
    "tfidf_vector_Y = vectorizer.transform(Y).toarray() #//shape - (3,6)\n",
    "tfidf_vector_X = tfidf_vector_X[:, :, None] #//shape - (3,6,1) \n",
    "tfidf_vector_Y = tfidf_vector_Y[:, :, None] #//shape - (3,6,1)\n",
    "\n",
    "X_train, X_test, y_train, y_test = train_test_split(tfidf_vector_X, tfidf_vector_Y, test_size = 0.2, random_state = 1)\n",
    "\n",
    "from keras import Sequential\n",
    "from keras.layers import LSTM, Dense\n",
    "\n",
    "model = Sequential()\n",
    "model.add(LSTM(32, input_shape=(X_train.shape[1], X_train.shape[2]), return_sequences=True))\n",
    "model.add(Dense(units=1, activation='sigmoid'))\n",
    "model.compile(loss='categorical_crossentropy', optimizer='adam', metrics=['accuracy'])\n",
    "model.summary()\n",
    "model.fit(X_train, y_train, epochs=1, verbose=1)"
   ]
  },
  {
   "cell_type": "code",
   "execution_count": null,
   "id": "ce202001",
   "metadata": {},
   "outputs": [],
   "source": [
    "print(tfidf_vector_X.shape)"
   ]
  },
  {
   "cell_type": "code",
   "execution_count": null,
   "id": "0a543b33",
   "metadata": {},
   "outputs": [],
   "source": []
  }
 ],
 "metadata": {
  "kernelspec": {
   "display_name": "Python 3 (ipykernel)",
   "language": "python",
   "name": "python3"
  },
  "language_info": {
   "codemirror_mode": {
    "name": "ipython",
    "version": 3
   },
   "file_extension": ".py",
   "mimetype": "text/x-python",
   "name": "python",
   "nbconvert_exporter": "python",
   "pygments_lexer": "ipython3",
   "version": "3.11.5"
  }
 },
 "nbformat": 4,
 "nbformat_minor": 5
}
